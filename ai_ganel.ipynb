{
 "cells": [
  {
   "cell_type": "code",
   "execution_count": 1,
   "metadata": {},
   "outputs": [],
   "source": [
    "from PIL import Image\n",
    "from matplotlib import pyplot as plt\n",
    "import numpy as np\n",
    "import os\n",
    "import pandas as pd\n",
    "from sklearn.model_selection import train_test_split\n",
    "from sklearn.linear_model import SGDClassifier\n",
    "from sklearn.decomposition import PCA\n",
    "from sklearn.model_selection import train_test_split"
   ]
  },
  {
   "cell_type": "code",
   "execution_count": 2,
   "metadata": {},
   "outputs": [
    {
     "name": "stdout",
     "output_type": "stream",
     "text": [
      "0 has been completed\n",
      "1000 has been completed\n",
      "2000 has been completed\n",
      "3000 has been completed\n",
      "4000 has been completed\n",
      "5000 has been completed\n",
      "6000 has been completed\n",
      "7000 has been completed\n",
      "8000 has been completed\n",
      "9000 has been completed\n",
      "10000 has been completed\n",
      "11000 has been completed\n",
      "12000 has been completed\n",
      "13000 has been completed\n",
      "14000 has been completed\n",
      "15000 has been completed\n",
      "16000 has been completed\n",
      "17000 has been completed\n",
      "18000 has been completed\n",
      "19000 has been completed\n",
      "20000 has been completed\n",
      "21000 has been completed\n",
      "22000 has been completed\n",
      "23000 has been completed\n",
      "24000 has been completed\n",
      "25000 has been completed\n",
      "26000 has been completed\n",
      "27000 has been completed\n",
      "28000 has been completed\n",
      "29000 has been completed\n",
      "30000 has been completed\n",
      "31000 has been completed\n",
      "32000 has been completed\n",
      "33000 has been completed\n",
      "34000 has been completed\n",
      "35000 has been completed\n",
      "36000 has been completed\n",
      "37000 has been completed\n",
      "38000 has been completed\n",
      "39000 has been completed\n",
      "(39209, 625)\n"
     ]
    }
   ],
   "source": [
    "filepath = r'Training Data Traffic Signs\\Training Data Traffic Signs\\Train.csv'\n",
    "\n",
    "meta=pd.read_csv(filepath,index_col=0)\n",
    "\n",
    "path = meta['Path'].tolist()\n",
    "class_id = meta['ClassId'].tolist()\n",
    "\n",
    "image_path = r'Training Data Traffic Signs\\Training Data Traffic Signs\\ ' \n",
    "image_path = image_path.strip()\n",
    "X = []\n",
    "y =[]\n",
    "for id,image_file in enumerate(path):\n",
    "    if (id%1000 == 0):\n",
    "        print('{} has been completed'.format(id))\n",
    "    relative_path = image_path+str(image_file)\n",
    "    im = Image.open(relative_path)\n",
    "    newsize = (25, 25)\n",
    "    im = im.resize(newsize)\n",
    "    im_cropped_grey = im.convert(\"L\")\n",
    "    #plt.imshow(im_cropped_grey, cmap = 'gray')\n",
    "    X.append(np.array(im_cropped_grey).flatten())\n",
    "    y.append(class_id[id])\n",
    "\n",
    "print(np.shape(X))\n",
    "\n"
   ]
  },
  {
   "cell_type": "code",
   "execution_count": 3,
   "metadata": {},
   "outputs": [],
   "source": [
    "pca = PCA(n_components = 50)\n",
    "pca.fit(X)\n",
    "data_pca = pca.transform(X)\n",
    "X_PCA = data_pca"
   ]
  },
  {
   "cell_type": "code",
   "execution_count": 9,
   "metadata": {},
   "outputs": [
    {
     "data": {
      "text/plain": [
       "(39209, 50)"
      ]
     },
     "execution_count": 9,
     "metadata": {},
     "output_type": "execute_result"
    }
   ],
   "source": [
    "np.shape(data_pca)"
   ]
  },
  {
   "cell_type": "code",
   "execution_count": 4,
   "metadata": {},
   "outputs": [],
   "source": [
    "X_train, X_test, y_train, y_test = train_test_split(\n",
    "    X_PCA, \n",
    "    y, \n",
    "    test_size=0.2, \n",
    "    shuffle=True,\n",
    "    random_state=42\n",
    ")"
   ]
  },
  {
   "cell_type": "code",
   "execution_count": 21,
   "metadata": {},
   "outputs": [
    {
     "name": "stdout",
     "output_type": "stream",
     "text": [
      "0.005355913183197735 of data is 0\n",
      "0.05661965365094749 of data is 1\n",
      "0.05738478410569002 of data is 2\n",
      "0.03596113137289908 of data is 3\n",
      "0.05049861001300722 of data is 4\n",
      "0.04743808819403708 of data is 5\n",
      "0.01071182636639547 of data is 6\n",
      "0.03672626182764161 of data is 7\n",
      "0.03596113137289908 of data is 8\n",
      "0.03749139228238415 of data is 9\n",
      "0.05126374046774975 of data is 10\n",
      "0.03366574000867148 of data is 11\n",
      "0.05355913183197735 of data is 12\n",
      "0.05508939274146242 of data is 13\n",
      "0.019893391823305875 of data is 14\n",
      "0.016067739549593205 of data is 15\n",
      "0.01071182636639547 of data is 16\n",
      "0.028309826825473745 of data is 17\n",
      "0.030605218189701345 of data is 18\n",
      "0.005355913183197735 of data is 19\n",
      "0.009181565456910403 of data is 20\n",
      "0.00841643500216787 of data is 21\n",
      "0.009946695911652937 of data is 22\n",
      "0.01300721773062307 of data is 23\n",
      "0.0068861740926828025 of data is 24\n",
      "0.03825652273712668 of data is 25\n",
      "0.015302609094850672 of data is 26\n",
      "0.006121043637940269 of data is 27\n",
      "0.013772348185365605 of data is 28\n",
      "0.0068861740926828025 of data is 29\n",
      "0.011476956821138005 of data is 30\n",
      "0.019893391823305875 of data is 31\n",
      "0.006121043637940269 of data is 32\n",
      "0.017572496110586856 of data is 33\n",
      "0.01071182636639547 of data is 34\n",
      "0.030605218189701345 of data is 35\n",
      "0.009946695911652937 of data is 36\n",
      "0.005355913183197735 of data is 37\n",
      "0.05279400137723482 of data is 38\n",
      "0.007651304547425336 of data is 39\n",
      "0.009181565456910403 of data is 40\n",
      "0.006121043637940269 of data is 41\n",
      "0.006121043637940269 of data is 42\n"
     ]
    }
   ],
   "source": [
    "max(y) \n",
    "min(y)\n",
    "\n",
    "for i in range(0,43):\n",
    "    count = y.count(i)\n",
    "    print(\"{} of data is {}\".format(count/len(y), i))"
   ]
  },
  {
   "cell_type": "code",
   "execution_count": null,
   "metadata": {},
   "outputs": [],
   "source": []
  },
  {
   "cell_type": "code",
   "execution_count": null,
   "metadata": {},
   "outputs": [],
   "source": []
  },
  {
   "cell_type": "code",
   "execution_count": 5,
   "metadata": {},
   "outputs": [
    {
     "data": {
      "text/html": [
       "<style>#sk-container-id-1 {color: black;background-color: white;}#sk-container-id-1 pre{padding: 0;}#sk-container-id-1 div.sk-toggleable {background-color: white;}#sk-container-id-1 label.sk-toggleable__label {cursor: pointer;display: block;width: 100%;margin-bottom: 0;padding: 0.3em;box-sizing: border-box;text-align: center;}#sk-container-id-1 label.sk-toggleable__label-arrow:before {content: \"▸\";float: left;margin-right: 0.25em;color: #696969;}#sk-container-id-1 label.sk-toggleable__label-arrow:hover:before {color: black;}#sk-container-id-1 div.sk-estimator:hover label.sk-toggleable__label-arrow:before {color: black;}#sk-container-id-1 div.sk-toggleable__content {max-height: 0;max-width: 0;overflow: hidden;text-align: left;background-color: #f0f8ff;}#sk-container-id-1 div.sk-toggleable__content pre {margin: 0.2em;color: black;border-radius: 0.25em;background-color: #f0f8ff;}#sk-container-id-1 input.sk-toggleable__control:checked~div.sk-toggleable__content {max-height: 200px;max-width: 100%;overflow: auto;}#sk-container-id-1 input.sk-toggleable__control:checked~label.sk-toggleable__label-arrow:before {content: \"▾\";}#sk-container-id-1 div.sk-estimator input.sk-toggleable__control:checked~label.sk-toggleable__label {background-color: #d4ebff;}#sk-container-id-1 div.sk-label input.sk-toggleable__control:checked~label.sk-toggleable__label {background-color: #d4ebff;}#sk-container-id-1 input.sk-hidden--visually {border: 0;clip: rect(1px 1px 1px 1px);clip: rect(1px, 1px, 1px, 1px);height: 1px;margin: -1px;overflow: hidden;padding: 0;position: absolute;width: 1px;}#sk-container-id-1 div.sk-estimator {font-family: monospace;background-color: #f0f8ff;border: 1px dotted black;border-radius: 0.25em;box-sizing: border-box;margin-bottom: 0.5em;}#sk-container-id-1 div.sk-estimator:hover {background-color: #d4ebff;}#sk-container-id-1 div.sk-parallel-item::after {content: \"\";width: 100%;border-bottom: 1px solid gray;flex-grow: 1;}#sk-container-id-1 div.sk-label:hover label.sk-toggleable__label {background-color: #d4ebff;}#sk-container-id-1 div.sk-serial::before {content: \"\";position: absolute;border-left: 1px solid gray;box-sizing: border-box;top: 0;bottom: 0;left: 50%;z-index: 0;}#sk-container-id-1 div.sk-serial {display: flex;flex-direction: column;align-items: center;background-color: white;padding-right: 0.2em;padding-left: 0.2em;position: relative;}#sk-container-id-1 div.sk-item {position: relative;z-index: 1;}#sk-container-id-1 div.sk-parallel {display: flex;align-items: stretch;justify-content: center;background-color: white;position: relative;}#sk-container-id-1 div.sk-item::before, #sk-container-id-1 div.sk-parallel-item::before {content: \"\";position: absolute;border-left: 1px solid gray;box-sizing: border-box;top: 0;bottom: 0;left: 50%;z-index: -1;}#sk-container-id-1 div.sk-parallel-item {display: flex;flex-direction: column;z-index: 1;position: relative;background-color: white;}#sk-container-id-1 div.sk-parallel-item:first-child::after {align-self: flex-end;width: 50%;}#sk-container-id-1 div.sk-parallel-item:last-child::after {align-self: flex-start;width: 50%;}#sk-container-id-1 div.sk-parallel-item:only-child::after {width: 0;}#sk-container-id-1 div.sk-dashed-wrapped {border: 1px dashed gray;margin: 0 0.4em 0.5em 0.4em;box-sizing: border-box;padding-bottom: 0.4em;background-color: white;}#sk-container-id-1 div.sk-label label {font-family: monospace;font-weight: bold;display: inline-block;line-height: 1.2em;}#sk-container-id-1 div.sk-label-container {text-align: center;}#sk-container-id-1 div.sk-container {/* jupyter's `normalize.less` sets `[hidden] { display: none; }` but bootstrap.min.css set `[hidden] { display: none !important; }` so we also need the `!important` here to be able to override the default hidden behavior on the sphinx rendered scikit-learn.org. See: https://github.com/scikit-learn/scikit-learn/issues/21755 */display: inline-block !important;position: relative;}#sk-container-id-1 div.sk-text-repr-fallback {display: none;}</style><div id=\"sk-container-id-1\" class=\"sk-top-container\"><div class=\"sk-text-repr-fallback\"><pre>SGDClassifier(random_state=42)</pre><b>In a Jupyter environment, please rerun this cell to show the HTML representation or trust the notebook. <br />On GitHub, the HTML representation is unable to render, please try loading this page with nbviewer.org.</b></div><div class=\"sk-container\" hidden><div class=\"sk-item\"><div class=\"sk-estimator sk-toggleable\"><input class=\"sk-toggleable__control sk-hidden--visually\" id=\"sk-estimator-id-1\" type=\"checkbox\" checked><label for=\"sk-estimator-id-1\" class=\"sk-toggleable__label sk-toggleable__label-arrow\">SGDClassifier</label><div class=\"sk-toggleable__content\"><pre>SGDClassifier(random_state=42)</pre></div></div></div></div></div>"
      ],
      "text/plain": [
       "SGDClassifier(random_state=42)"
      ]
     },
     "execution_count": 5,
     "metadata": {},
     "output_type": "execute_result"
    }
   ],
   "source": [
    "sgd_clf = SGDClassifier(random_state=42)\n",
    "sgd_clf.fit(X_train, y_train)"
   ]
  },
  {
   "cell_type": "code",
   "execution_count": 11,
   "metadata": {},
   "outputs": [
    {
     "data": {
      "text/plain": [
       "0.5647793930119868"
      ]
     },
     "execution_count": 11,
     "metadata": {},
     "output_type": "execute_result"
    }
   ],
   "source": [
    "sgd_clf.score(X_test,y_test)"
   ]
  },
  {
   "cell_type": "code",
   "execution_count": null,
   "metadata": {},
   "outputs": [],
   "source": []
  }
 ],
 "metadata": {
  "kernelspec": {
   "display_name": "Python 3.9.10 64-bit",
   "language": "python",
   "name": "python3"
  },
  "language_info": {
   "codemirror_mode": {
    "name": "ipython",
    "version": 3
   },
   "file_extension": ".py",
   "mimetype": "text/x-python",
   "name": "python",
   "nbconvert_exporter": "python",
   "pygments_lexer": "ipython3",
   "version": "3.9.10"
  },
  "orig_nbformat": 4,
  "vscode": {
   "interpreter": {
    "hash": "f9dd5217a0dde95d381641731e639fd09a35f02e990bc29f8ba4a4a2775dc0bd"
   }
  }
 },
 "nbformat": 4,
 "nbformat_minor": 2
}
