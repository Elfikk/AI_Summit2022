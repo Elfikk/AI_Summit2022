{
 "cells": [
  {
   "cell_type": "code",
   "execution_count": 3,
   "metadata": {},
   "outputs": [],
   "source": [
    "from PIL import Image\n",
    "from matplotlib import pyplot as plt\n",
    "import numpy as np\n",
    "import os\n",
    "import pandas as pd"
   ]
  },
  {
   "cell_type": "code",
   "execution_count": 29,
   "metadata": {},
   "outputs": [
    {
     "name": "stdout",
     "output_type": "stream",
     "text": [
      "(5, 625)\n",
      "[array([ 50,  51,  52,  63,  85,  76,  53,  56,  81,  71,  54,  51,  50,\n",
      "        56,  55,  84,  56,  54,  50,  48,  47,  47,  48,  50,  48,  50,\n",
      "        49,  50,  53,  54,  50,  51,  61,  74,  64,  56,  51,  50,  50,\n",
      "        57,  79,  53,  56,  53,  48,  48,  48,  49,  56,  50,  51,  48,\n",
      "        49,  50,  49,  49,  49,  54,  64,  62,  58,  55,  51,  51,  52,\n",
      "        51,  52,  54,  54,  47,  47,  48,  54,  63,  53,  51,  50,  50,\n",
      "        50,  50,  49,  51,  51,  74,  62,  59,  64,  63,  55,  51,  50,\n",
      "        48,  47,  48,  47,  47,  50,  57,  57,  57,  50,  50,  49,  50,\n",
      "        50,  50,  51,  59,  84,  83,  73,  78,  74,  60,  52,  50,  48,\n",
      "        47,  48,  47,  49,  53,  54,  55,  58,  50,  50,  51,  51,  51,\n",
      "        49,  58,  70,  76,  83,  86, 102,  74,  52,  53,  52,  49,  49,\n",
      "        49,  49,  54,  57,  60,  57,  58,  50,  49,  50,  50,  51,  49,\n",
      "        62,  74,  74,  89,  96,  72,  54,  58,  56,  53,  50,  49,  49,\n",
      "        52,  58,  60,  59,  58,  56,  49,  50,  51,  50,  50,  48,  52,\n",
      "        61,  71,  87,  73,  54,  60,  65,  59,  58,  52,  50,  52,  57,\n",
      "        62,  60,  57,  54,  54,  50,  50,  51,  50,  50,  50,  49,  47,\n",
      "        47,  49,  55,  62,  68,  68,  55,  54,  53,  57,  58,  62,  60,\n",
      "        57,  57,  56,  60,  51,  50,  51,  51,  49,  49,  49,  50,  52,\n",
      "        54,  56,  61,  72,  72,  66,  54,  54,  59,  56,  59,  58,  55,\n",
      "        57,  58,  62,  51,  50,  50,  52,  50,  49,  48,  48,  51,  51,\n",
      "        55,  68,  72,  72,  71,  64,  54,  56,  62,  62,  58,  55,  53,\n",
      "        55,  59,  52,  51,  50,  50,  50,  49,  48,  48,  53,  54,  64,\n",
      "        67,  55,  58,  58,  63,  58,  57,  62,  63,  61,  62,  57,  56,\n",
      "        56,  50,  51,  52,  51,  49,  48,  50,  52,  57,  60,  68,  55,\n",
      "        53,  60,  60,  66,  62,  56,  57,  61,  62,  64,  62,  57,  53,\n",
      "        50,  51,  52,  52,  51,  50,  51,  55,  54,  63,  69,  52,  66,\n",
      "        72,  71,  76,  68,  54,  55,  62,  59,  56,  57,  57,  54,  50,\n",
      "        50,  50,  52,  52,  50,  51,  53,  56,  70,  66,  53,  66,  73,\n",
      "        73,  73,  73,  64,  54,  55,  56,  55,  59,  58,  55,  49,  49,\n",
      "        50,  52,  51,  50,  51,  56,  68,  70,  68,  63,  67,  72,  72,\n",
      "        69,  72,  69,  62,  53,  52,  57,  60,  58,  58,  50,  50,  50,\n",
      "        51,  51,  52,  53,  54,  59,  59,  58,  57,  57,  57,  57,  56,\n",
      "        57,  56,  53,  52,  55,  60,  63,  63,  67,  51,  51,  50,  49,\n",
      "        51,  53,  54,  54,  55,  56,  56,  54,  54,  53,  53,  54,  54,\n",
      "        54,  54,  56,  60,  66,  69,  73,  68,  52,  51,  50,  50,  51,\n",
      "        53,  53,  53,  54,  56,  56,  54,  53,  52,  53,  54,  59,  62,\n",
      "        65,  62,  70,  75,  74,  71,  64,  52,  51,  50,  52,  50,  51,\n",
      "        51,  51,  52,  52,  49,  52,  58,  55,  52,  56,  60,  67,  73,\n",
      "        64,  70,  77,  72,  69,  66,  53,  50,  49,  49,  49,  50,  51,\n",
      "        50,  51,  50,  48,  50,  57,  63,  58,  59,  66,  69,  78,  74,\n",
      "        73,  74,  83,  79,  73,  51,  50,  50,  50,  50,  51,  49,  48,\n",
      "        49,  49,  48,  50,  78,  63,  92,  84,  78,  79,  90,  92,  82,\n",
      "        73,  74,  71,  72,  50,  51,  52,  52,  52,  51,  50,  48,  49,\n",
      "        50,  48,  50,  55,  56,  87,  94,  81,  94, 105, 102,  86,  80,\n",
      "        78,  80,  65,  52,  55,  53,  51,  50,  50,  52,  49,  49,  49,\n",
      "        49,  50,  53,  55,  76,  86,  78,  87,  90,  98,  97,  94,  94,\n",
      "        92,  71,  52,  55,  53,  51,  54,  52,  52,  48,  47,  49,  49,\n",
      "        50,  52,  54,  69,  79,  79,  86,  86,  86,  80,  89, 108,  96,\n",
      "        82], dtype=uint8), array([ 50,  50,  50,  51,  50,  73,  87,  70,  54,  84,  64,  54,  60,\n",
      "        72,  89, 114,  98,  82,  68,  61,  52,  53,  69,  59,  48,  50,\n",
      "        50,  50,  50,  64,  91,  74,  58,  70,  81,  65,  52,  51,  57,\n",
      "        53,  80,  61,  64,  48,  50,  50,  47,  52,  52,  49,  51,  51,\n",
      "        50,  50,  67,  75,  58,  53,  63,  77,  66,  52,  50,  48,  51,\n",
      "        57,  56,  55,  58,  52,  49,  47,  48,  49,  48,  53,  51,  50,\n",
      "        51,  51,  50,  51,  50,  57,  66,  59,  54,  53,  49,  53,  55,\n",
      "        51,  54,  67,  54,  48,  48,  55,  60,  55,  53,  51,  51,  50,\n",
      "        51,  50,  49,  51,  56,  59,  55,  55,  59,  56,  50,  50,  51,\n",
      "        49,  48,  47,  49,  49,  57,  56,  53,  52,  51,  52,  52,  50,\n",
      "        52,  52,  58,  69,  73,  78,  76,  79,  65,  52,  50,  50,  50,\n",
      "        49,  48,  48,  50,  52,  54,  56,  51,  50,  51,  52,  51,  50,\n",
      "        57,  72,  74,  64,  84,  88,  76,  59,  56,  52,  50,  49,  49,\n",
      "        49,  50,  56,  58,  58,  61,  51,  51,  51,  50,  52,  50,  54,\n",
      "        69,  76,  86,  99,  75,  60,  58,  56,  57,  51,  51,  51,  50,\n",
      "        56,  60,  61,  58,  57,  52,  51,  52,  51,  52,  52,  52,  58,\n",
      "        67,  80,  94,  66,  64,  61,  54,  54,  50,  53,  56,  54,  61,\n",
      "        59,  59,  56,  51,  50,  51,  52,  51,  51,  50,  49,  50,  51,\n",
      "        55,  60,  57,  63,  71,  63,  53,  53,  58,  59,  58,  62,  58,\n",
      "        61,  56,  62,  50,  51,  52,  51,  50,  51,  51,  52,  50,  53,\n",
      "        55,  55,  68,  74,  70,  58,  57,  60,  62,  60,  59,  56,  60,\n",
      "        57,  63,  51,  50,  50,  51,  51,  51,  50,  51,  50,  55,  56,\n",
      "        67,  74,  73,  70,  62,  57,  60,  59,  61,  60,  56,  55,  55,\n",
      "        59,  52,  50,  51,  50,  51,  51,  50,  50,  53,  58,  65,  68,\n",
      "        63,  62,  64,  65,  56,  56,  60,  63,  66,  56,  57,  55,  58,\n",
      "        51,  51,  51,  51,  50,  50,  50,  52,  58,  57,  62,  60,  52,\n",
      "        53,  58,  67,  64,  52,  57,  59,  65,  66,  63,  58,  56,  52,\n",
      "        50,  51,  50,  49,  49,  50,  53,  55,  58,  68,  56,  61,  69,\n",
      "        69,  70,  70,  59,  55,  59,  59,  59,  59,  60,  55,  51,  50,\n",
      "        50,  49,  50,  49,  50,  52,  55,  70,  71,  55,  59,  73,  74,\n",
      "        72,  72,  66,  57,  59,  59,  53,  57,  59,  53,  51,  50,  51,\n",
      "        51,  50,  49,  52,  52,  60,  73,  71,  60,  67,  74,  72,  72,\n",
      "        72,  67,  58,  55,  60,  54,  56,  59,  57,  50,  50,  51,  50,\n",
      "        49,  50,  54,  53,  61,  60,  64,  61,  60,  60,  59,  62,  58,\n",
      "        60,  55,  51,  57,  63,  62,  60,  61,  50,  51,  50,  50,  51,\n",
      "        51,  52,  53,  55,  53,  53,  54,  54,  52,  53,  52,  52,  53,\n",
      "        55,  54,  61,  72,  72,  67,  64,  52,  52,  52,  51,  51,  51,\n",
      "        52,  52,  52,  54,  55,  55,  57,  56,  55,  56,  60,  58,  59,\n",
      "        68,  73,  71,  73,  76,  68,  53,  52,  53,  53,  52,  53,  51,\n",
      "        50,  52,  52,  52,  52,  51,  51,  50,  52,  59,  62,  60,  64,\n",
      "        74,  73,  71,  75,  70,  51,  52,  53,  51,  52,  53,  51,  52,\n",
      "        52,  51,  49,  52,  76,  89,  81,  72,  66,  71,  65,  76,  82,\n",
      "        73,  73,  68,  74,  52,  52,  54,  53,  52,  52,  53,  52,  50,\n",
      "        49,  47,  52,  67,  71,  80,  94,  76,  87,  90,  95,  85,  77,\n",
      "        77,  77,  84,  52,  53,  54,  52,  52,  52,  53,  51,  49,  52,\n",
      "        48,  51,  65,  63,  80,  93,  80,  87, 109, 104,  95,  79,  71,\n",
      "        68,  65,  50,  55,  56,  53,  54,  52,  55,  51,  47,  48,  49,\n",
      "        49,  52,  53,  73,  85,  81,  79,  91,  99,  98,  95, 102,  83,\n",
      "        70], dtype=uint8), array([ 51,  52,  51,  51,  52,  52,  80,  76,  63,  57,  75,  71,  55,\n",
      "        51,  48,  52,  68,  69,  68,  60,  51,  49,  48,  49,  50,  53,\n",
      "        51,  53,  52,  52,  50,  55,  61,  56,  55,  68,  64,  56,  53,\n",
      "        51,  52,  59,  51,  56,  61,  54,  49,  48,  54,  64,  51,  50,\n",
      "        52,  51,  52,  50,  50,  50,  50,  51,  54,  56,  56,  58,  54,\n",
      "        52,  51,  50,  48,  47,  47,  47,  50,  58,  58,  50,  51,  52,\n",
      "        51,  52,  52,  52,  54,  54,  63,  75,  76,  64,  68,  64,  54,\n",
      "        50,  51,  49,  47,  48,  49,  52,  53,  54,  51,  51,  52,  52,\n",
      "        52,  51,  50,  51,  62,  77,  68,  88,  82,  97,  70,  56,  51,\n",
      "        50,  49,  48,  47,  51,  57,  59,  58,  51,  50,  52,  51,  51,\n",
      "        51,  50,  53,  74,  77,  64,  90,  90,  76,  68,  57,  54,  50,\n",
      "        49,  48,  48,  55,  61,  60,  61,  52,  50,  50,  51,  50,  51,\n",
      "        49,  51,  58,  63,  77, 112,  77,  60,  66,  52,  54,  49,  48,\n",
      "        51,  53,  61,  61,  60,  56,  51,  51,  50,  52,  50,  50,  49,\n",
      "        49,  52,  54,  56,  73,  63,  69,  71,  60,  52,  51,  55,  62,\n",
      "        62,  62,  58,  62,  54,  50,  52,  51,  51,  48,  49,  50,  49,\n",
      "        49,  49,  51,  53,  60,  69,  73,  70,  56,  55,  59,  59,  59,\n",
      "        60,  60,  63,  57,  50,  52,  51,  52,  50,  49,  49,  50,  50,\n",
      "        52,  56,  55,  60,  71,  74,  70,  59,  58,  60,  62,  62,  60,\n",
      "        58,  60,  59,  51,  52,  51,  51,  50,  50,  50,  49,  49,  53,\n",
      "        55,  56,  68,  69,  65,  66,  61,  56,  57,  62,  64,  64,  58,\n",
      "        60,  57,  52,  52,  51,  51,  51,  49,  49,  49,  50,  52,  54,\n",
      "        65,  68,  56,  52,  58,  65,  59,  53,  62,  64,  68,  62,  61,\n",
      "        58,  53,  53,  50,  51,  53,  51,  50,  51,  53,  56,  59,  71,\n",
      "        56,  54,  62,  65,  70,  67,  55,  56,  61,  61,  64,  62,  58,\n",
      "        53,  51,  51,  51,  51,  51,  51,  52,  56,  57,  63,  71,  54,\n",
      "        63,  71,  73,  73,  71,  62,  55,  60,  57,  56,  57,  58,  51,\n",
      "        52,  52,  52,  51,  50,  50,  52,  53,  56,  69,  68,  54,  65,\n",
      "        73,  73,  73,  74,  66,  56,  60,  61,  54,  55,  62,  53,  53,\n",
      "        53,  53,  52,  49,  50,  52,  55,  65,  72,  70,  64,  68,  72,\n",
      "        71,  71,  71,  71,  61,  56,  59,  55,  56,  61,  53,  53,  54,\n",
      "        52,  51,  49,  50,  53,  54,  57,  57,  58,  58,  57,  57,  57,\n",
      "        57,  57,  58,  56,  52,  56,  61,  62,  64,  53,  54,  52,  51,\n",
      "        52,  51,  51,  53,  54,  54,  54,  53,  53,  53,  55,  55,  53,\n",
      "        55,  57,  56,  57,  65,  69,  68,  70,  52,  53,  51,  52,  52,\n",
      "        52,  52,  50,  52,  54,  55,  53,  55,  55,  57,  54,  55,  60,\n",
      "        60,  59,  66,  74,  73,  70,  77,  50,  51,  52,  52,  53,  51,\n",
      "        55,  51,  50,  52,  52,  52,  53,  53,  53,  53,  57,  60,  62,\n",
      "        64,  67,  75,  77,  73,  74,  52,  53,  53,  52,  51,  49,  51,\n",
      "        50,  51,  52,  51,  51,  52,  68,  81,  68,  70,  68,  64,  63,\n",
      "        76,  83,  76,  78,  68,  50,  50,  51,  52,  51,  51,  53,  51,\n",
      "        50,  50,  50,  50,  52,  72,  74,  79,  91,  77,  89,  85,  89,\n",
      "        86,  73,  88,  77,  51,  51,  53,  54,  54,  55,  52,  52,  50,\n",
      "        49,  49,  51,  51,  63,  62,  81,  92,  83, 101, 120, 108,  91,\n",
      "        76,  73,  66,  50,  52,  55,  53,  52,  53,  52,  52,  49,  49,\n",
      "        50,  51,  51,  55,  57,  76,  88,  83,  84,  96, 102,  86,  84,\n",
      "        90,  81,  52,  54,  57,  54,  52,  54,  54,  54,  50,  51,  49,\n",
      "        50,  51,  55,  56,  72,  85,  83,  78,  75,  87,  86,  90,  99,\n",
      "        99], dtype=uint8), array([ 50,  50,  50,  49,  47,  58,  71,  73,  63,  72,  83,  67,  52,\n",
      "        50,  55,  53,  65,  69,  57,  50,  48,  46,  48,  48,  47,  50,\n",
      "        51,  51,  48,  47,  69,  82,  63,  55,  61,  76,  65,  51,  50,\n",
      "        50,  54,  72,  61,  69,  58,  49,  47,  49,  51,  51,  50,  51,\n",
      "        48,  49,  49,  58,  78,  58,  51,  60,  66,  57,  52,  50,  50,\n",
      "        54,  61,  51,  58,  56,  49,  46,  47,  56,  63,  51,  49,  49,\n",
      "        51,  52,  51,  49,  50,  50,  51,  55,  53,  55,  59,  53,  52,\n",
      "        49,  50,  49,  47,  47,  47,  52,  58,  57,  51,  50,  51,  51,\n",
      "        51,  51,  50,  49,  53,  65,  72,  66,  75,  79,  60,  52,  49,\n",
      "        48,  50,  48,  48,  49,  49,  51,  53,  51,  50,  49,  50,  49,\n",
      "        50,  49,  49,  63,  75,  72,  84,  94,  96,  67,  55,  50,  50,\n",
      "        48,  47,  48,  52,  54,  57,  56,  50,  49,  51,  49,  49,  50,\n",
      "        49,  51,  65,  78,  64,  98,  81,  75,  62,  55,  52,  50,  48,\n",
      "        48,  48,  56,  58,  60,  56,  50,  51,  52,  50,  49,  51,  50,\n",
      "        52,  64,  73,  78, 100,  76,  65,  60,  53,  53,  49,  54,  55,\n",
      "        53,  60,  58,  56,  52,  51,  51,  52,  51,  50,  50,  49,  50,\n",
      "        54,  58,  68,  69,  72,  74,  69,  54,  56,  55,  60,  58,  59,\n",
      "        60,  60,  60,  53,  51,  53,  51,  50,  49,  49,  49,  49,  49,\n",
      "        53,  60,  60,  68,  75,  69,  58,  56,  60,  59,  58,  57,  57,\n",
      "        57,  60,  54,  52,  52,  52,  51,  52,  51,  51,  50,  52,  56,\n",
      "        54,  58,  70,  75,  75,  65,  54,  56,  59,  59,  59,  57,  56,\n",
      "        58,  54,  51,  51,  50,  49,  51,  51,  50,  50,  51,  53,  54,\n",
      "        67,  71,  64,  64,  69,  61,  51,  57,  65,  65,  62,  55,  52,\n",
      "        51,  53,  52,  50,  49,  48,  51,  50,  50,  52,  56,  65,  68,\n",
      "        56,  52,  53,  63,  70,  60,  53,  56,  59,  65,  64,  58,  56,\n",
      "        49,  49,  49,  49,  49,  49,  48,  52,  56,  60,  67,  54,  54,\n",
      "        67,  69,  70,  70,  63,  54,  57,  56,  57,  61,  59,  57,  48,\n",
      "        49,  50,  49,  49,  48,  50,  56,  54,  63,  70,  57,  59,  73,\n",
      "        71,  71,  71,  68,  53,  54,  60,  56,  55,  59,  56,  48,  48,\n",
      "        49,  50,  49,  48,  52,  53,  56,  68,  70,  59,  59,  71,  73,\n",
      "        72,  72,  72,  61,  52,  56,  57,  53,  58,  60,  51,  50,  50,\n",
      "        49,  49,  50,  51,  51,  62,  69,  63,  63,  66,  67,  66,  67,\n",
      "        69,  67,  66,  57,  53,  54,  59,  59,  57,  51,  50,  50,  50,\n",
      "        51,  52,  53,  53,  56,  57,  54,  54,  56,  56,  54,  54,  55,\n",
      "        54,  55,  52,  54,  58,  61,  59,  60,  51,  50,  50,  51,  50,\n",
      "        51,  52,  52,  52,  52,  52,  51,  52,  53,  52,  52,  53,  57,\n",
      "        53,  57,  59,  66,  66,  68,  74,  51,  51,  51,  52,  50,  49,\n",
      "        51,  51,  51,  53,  53,  51,  50,  53,  53,  55,  59,  63,  58,\n",
      "        66,  70,  74,  74,  76,  76,  52,  51,  52,  52,  53,  52,  50,\n",
      "        50,  52,  50,  49,  49,  55,  58,  52,  53,  58,  60,  58,  67,\n",
      "        75,  71,  79,  73,  65,  52,  52,  51,  50,  50,  52,  50,  50,\n",
      "        50,  49,  49,  48,  68,  84,  76,  71,  64,  68,  69,  88,  86,\n",
      "        65,  75,  83,  67,  52,  52,  50,  50,  52,  53,  51,  50,  48,\n",
      "        49,  50,  51,  60,  65,  74,  94,  88,  86, 102, 110,  88,  71,\n",
      "        76,  77,  70,  52,  52,  52,  52,  53,  52,  52,  50,  50,  50,\n",
      "        49,  49,  60,  60,  69,  90,  86,  86, 103, 104,  98,  82,  84,\n",
      "        79,  70,  55,  55,  53,  52,  53,  51,  51,  49,  51,  48,  48,\n",
      "        48,  52,  52,  63,  81,  82,  80,  82,  88, 103,  91,  91,  94,\n",
      "        93], dtype=uint8), array([ 51,  51,  50,  49,  50,  50,  49,  80,  68,  65,  62,  77,  58,\n",
      "        49,  51,  51,  68,  88,  63,  49,  49,  48,  47,  49,  48,  51,\n",
      "        50,  51,  49,  49,  50,  59,  70,  62,  57,  70,  75,  56,  49,\n",
      "        50,  49,  49,  53,  55,  53,  53,  50,  47,  49,  48,  50,  50,\n",
      "        49,  50,  48,  49,  60,  75,  53,  55,  73,  67,  60,  51,  49,\n",
      "        48,  58,  70,  64,  65,  62,  53,  46,  49,  54,  48,  50,  52,\n",
      "        50,  49,  50,  57,  75,  57,  51,  61,  59,  58,  56,  50,  49,\n",
      "        48,  55,  45,  54,  51,  48,  47,  54,  53,  50,  51,  49,  48,\n",
      "        50,  50,  51,  49,  50,  49,  51,  51,  52,  60,  58,  51,  49,\n",
      "        46,  46,  47,  46,  47,  47,  54,  52,  51,  50,  49,  50,  50,\n",
      "        50,  50,  51,  49,  52,  63,  70,  62,  79,  75,  58,  49,  47,\n",
      "        45,  47,  47,  46,  52,  54,  54,  50,  49,  50,  50,  49,  48,\n",
      "        48,  51,  51,  65,  70,  80,  86,  96,  91,  61,  49,  46,  46,\n",
      "        47,  46,  49,  58,  56,  59,  49,  49,  50,  50,  48,  48,  49,\n",
      "        51,  56,  80,  69,  69, 102,  88,  81,  65,  51,  47,  47,  46,\n",
      "        49,  56,  57,  56,  58,  50,  50,  51,  49,  48,  49,  50,  50,\n",
      "        56,  73,  75,  79, 103,  82,  67,  52,  54,  49,  50,  47,  51,\n",
      "        59,  57,  59,  60,  51,  50,  51,  49,  49,  51,  50,  49,  51,\n",
      "        59,  65,  69,  76,  79,  65,  56,  56,  53,  55,  53,  57,  61,\n",
      "        58,  60,  59,  50,  51,  51,  49,  49,  48,  49,  49,  48,  51,\n",
      "        54,  54,  59,  72,  72,  58,  53,  55,  59,  55,  59,  59,  58,\n",
      "        57,  59,  50,  50,  52,  49,  50,  48,  49,  48,  49,  52,  54,\n",
      "        58,  71,  75,  74,  67,  53,  52,  61,  55,  56,  57,  55,  55,\n",
      "        57,  50,  49,  51,  49,  49,  49,  48,  48,  50,  55,  56,  65,\n",
      "        69,  70,  66,  66,  61,  53,  54,  60,  63,  60,  56,  53,  56,\n",
      "        49,  48,  50,  49,  49,  49,  48,  48,  53,  56,  56,  64,  58,\n",
      "        54,  52,  54,  66,  57,  54,  60,  64,  63,  62,  58,  58,  50,\n",
      "        48,  50,  49,  49,  49,  49,  50,  53,  53,  61,  63,  52,  52,\n",
      "        59,  63,  70,  59,  54,  57,  57,  57,  61,  63,  59,  51,  49,\n",
      "        49,  48,  48,  48,  49,  52,  52,  59,  70,  61,  52,  64,  70,\n",
      "        71,  72,  68,  57,  52,  60,  59,  55,  59,  61,  49,  48,  47,\n",
      "        49,  48,  47,  49,  53,  54,  65,  72,  61,  55,  67,  72,  71,\n",
      "        71,  73,  67,  53,  55,  59,  54,  53,  60,  48,  48,  48,  49,\n",
      "        50,  49,  53,  56,  56,  67,  72,  64,  62,  69,  71,  72,  68,\n",
      "        71,  68,  61,  53,  56,  54,  54,  59,  48,  50,  51,  50,  50,\n",
      "        52,  54,  52,  57,  64,  63,  60,  60,  62,  63,  64,  63,  62,\n",
      "        59,  56,  53,  54,  56,  60,  58,  50,  52,  50,  49,  50,  51,\n",
      "        52,  52,  52,  57,  51,  55,  52,  54,  56,  55,  55,  54,  53,\n",
      "        53,  51,  52,  60,  64,  60,  50,  50,  50,  51,  50,  51,  51,\n",
      "        55,  51,  53,  50,  53,  55,  55,  55,  52,  54,  57,  60,  63,\n",
      "        62,  64,  66,  67,  70,  51,  50,  50,  51,  49,  49,  50,  50,\n",
      "        50,  50,  51,  51,  52,  52,  52,  49,  55,  61,  59,  59,  74,\n",
      "        79,  71,  72,  76,  50,  51,  53,  51,  50,  50,  50,  51,  50,\n",
      "        51,  50,  49,  52,  62,  53,  50,  53,  62,  59,  64,  69,  70,\n",
      "        67,  79,  78,  49,  49,  51,  52,  52,  51,  51,  51,  51,  49,\n",
      "        49,  47,  54,  75,  76,  70,  66,  65,  62,  69,  95,  92,  68,\n",
      "        72,  77,  49,  50,  49,  50,  51,  52,  50,  50,  49,  48,  48,\n",
      "        47,  60,  69,  62,  77,  92,  78,  97,  91,  94,  85,  73,  78,\n",
      "        74], dtype=uint8)]\n",
      "[20, 20, 20, 20, 20]\n"
     ]
    },
    {
     "data": {
      "image/png": "[encoded data removed]",
      "text/plain": [
       "<Figure size 432x288 with 1 Axes>"
      ]
     },
     "metadata": {
      "needs_background": "light"
     },
     "output_type": "display_data"
    }
   ],
   "source": [
    "filepath = r'Training Data Traffic Signs\\Training Data Traffic Signs\\Train.csv'\n",
    "\n",
    "meta=pd.read_csv(filepath,index_col=0)\n",
    "\n",
    "path = meta['Path'].tolist()\n",
    "class_id = meta['ClassId'].tolist()\n",
    "\n",
    "image_path = r'Training Data Traffic Signs\\Training Data Traffic Signs\\ ' \n",
    "image_path = image_path.strip()\n",
    "X_train = []\n",
    "y_train =[]\n",
    "for id,image_file in enumerate(path[:5]):\n",
    "    relative_path = image_path+str(image_file)\n",
    "    im = Image.open(relative_path)\n",
    "    newsize = (25, 25)\n",
    "    im = im.resize(newsize)\n",
    "    im_cropped_grey = im.convert(\"L\")\n",
    "    plt.imshow(im_cropped_grey, cmap = 'gray')\n",
    "    X_train.append(np.array(im_cropped_grey).flatten())\n",
    "    y_train.append(class_id[id])\n",
    "\n",
    "print(np.shape(X_train))\n",
    "print(X_train)\n",
    "print(y_train)\n"
   ]
  },
  {
   "cell_type": "code",
   "execution_count": 5,
   "metadata": {},
   "outputs": [
    {
     "name": "stdout",
     "output_type": "stream",
     "text": [
      "Image Size is (29, 30)\n"
     ]
    },
    {
     "data": {
      "text/plain": [
       "<matplotlib.image.AxesImage at 0x1e87aa59b50>"
      ]
     },
     "execution_count": 5,
     "metadata": {},
     "output_type": "execute_result"
    },
    {
     "data": {
      "image/png": "[encoded data removed]",
      "text/plain": [
       "<Figure size 432x288 with 1 Axes>"
      ]
     },
     "metadata": {
      "needs_background": "light"
     },
     "output_type": "display_data"
    }
   ],
   "source": [
    "\n",
    "im = Image.open(r\"Training Data Traffic Signs\\Training Data Traffic Signs\\Train\\0\\00000_00000_00000.png\")\n",
    "#im.show()\n",
    "print('Image Size is {}'.format(im.size))\n",
    "plt.imshow(im)"
   ]
  },
  {
   "cell_type": "code",
   "execution_count": 6,
   "metadata": {},
   "outputs": [
    {
     "name": "stdout",
     "output_type": "stream",
     "text": [
      "Image Size is (25, 25)\n"
     ]
    },
    {
     "data": {
      "text/plain": [
       "<matplotlib.image.AxesImage at 0x1e87e4dd8b0>"
      ]
     },
     "execution_count": 6,
     "metadata": {},
     "output_type": "execute_result"
    },
    {
     "data": {
      "image/png": "[encoded data removed]",
      "text/plain": [
       "<Figure size 432x288 with 1 Axes>"
      ]
     },
     "metadata": {
      "needs_background": "light"
     },
     "output_type": "display_data"
    }
   ],
   "source": [
    "\n",
    "newsize = (25, 25)\n",
    "im_cropped = im.resize(newsize)\n",
    "print('Image Size is {}'.format(im_cropped.size))\n",
    "plt.imshow(im_cropped)\n",
    "#im_cropped.show()"
   ]
  },
  {
   "cell_type": "code",
   "execution_count": 7,
   "metadata": {},
   "outputs": [
    {
     "name": "stdout",
     "output_type": "stream",
     "text": [
      "Image Size is (25, 25)\n"
     ]
    },
    {
     "data": {
      "text/plain": [
       "<matplotlib.image.AxesImage at 0x1e87e53bbe0>"
      ]
     },
     "execution_count": 7,
     "metadata": {},
     "output_type": "execute_result"
    },
    {
     "data": {
      "image/png": "[encoded data removed]",
      "text/plain": [
       "<Figure size 432x288 with 1 Axes>"
      ]
     },
     "metadata": {
      "needs_background": "light"
     },
     "output_type": "display_data"
    }
   ],
   "source": [
    "im_cropped_grey = im_cropped.convert(\"L\")\n",
    "print('Image Size is {}'.format(im_cropped_grey.size))\n",
    "plt.imshow(im_cropped_grey, cmap = 'gray')"
   ]
  },
  {
   "cell_type": "code",
   "execution_count": 10,
   "metadata": {},
   "outputs": [
    {
     "name": "stdout",
     "output_type": "stream",
     "text": [
      "(25, 25)\n"
     ]
    },
    {
     "data": {
      "text/plain": [
       "array([[ 77,  78,  90, 117, 127, 131, 155, 240, 250, 240, 180, 136, 158,\n",
       "        203, 239, 240, 206, 147,  92, 100, 103,  85,  75,  70,  69],\n",
       "       [ 82,  82, 101, 139, 113, 120, 204, 254, 254, 221, 152, 176, 179,\n",
       "        179, 225, 242, 238, 179, 106, 107, 106,  90,  78,  75,  80],\n",
       "       [ 77,  86, 113, 132, 101, 182, 243, 255, 248, 205, 184, 235, 224,\n",
       "        178, 202, 238, 249, 225, 151, 110, 108, 106,  80,  71,  76],\n",
       "       [ 73,  88, 121, 123, 123, 195, 244, 249, 237, 202, 202, 224, 222,\n",
       "        201, 183, 190, 177, 182, 143,  99,  91, 121,  94,  72,  83],\n",
       "       [ 74, 112, 134, 108, 115, 167, 166, 148, 136, 123, 115, 113, 107,\n",
       "        100,  97,  93,  87,  85,  85,  89,  97, 107,  97,  74, 101],\n",
       "       [110, 130, 128,  98, 107, 110, 111, 113, 116, 116, 118, 120, 125,\n",
       "        129, 136, 128, 125, 121, 118, 115, 108,  93,  84,  72,  92],\n",
       "       [156, 158, 155, 139, 130, 131, 132, 141, 151, 161, 164, 155, 153,\n",
       "        160, 169, 153, 126,  95,  85,  81,  82,  78,  70,  71,  75],\n",
       "       [183, 184, 176, 140, 114, 101,  99, 105, 114, 109,  99,  87,  90,\n",
       "         88, 101, 110, 107, 113,  98,  87,  83,  74,  72,  72,  75],\n",
       "       [183, 178, 170, 137,  98,  90, 105, 103, 104, 108, 125, 169, 173,\n",
       "        166, 127, 107,  95, 114, 114,  88,  78,  77,  76,  71,  74],\n",
       "       [140, 134, 128, 136,  96, 100, 107, 105, 115, 159, 217, 245, 250,\n",
       "        237, 208, 172, 128,  96, 100,  95,  81,  83,  79,  75,  84],\n",
       "       [166,  99, 104, 131, 101, 114, 114, 112, 143, 170, 169, 200, 225,\n",
       "        187, 151, 131, 154, 118,  99, 109,  92,  96,  83,  82,  88],\n",
       "       [185, 105,  95, 133, 112, 126,  96, 130, 184, 156, 134, 144, 171,\n",
       "        152, 156, 134, 162, 141,  91, 119, 109, 103,  86,  82,  92],\n",
       "       [156, 116, 101, 143, 130, 131,  89, 161, 223, 203, 189, 139, 145,\n",
       "        127, 211, 170, 164, 177,  92, 110, 115,  94,  88,  84,  93],\n",
       "       [132, 122, 114, 136, 136, 137,  90, 181, 240, 225, 182, 146, 187,\n",
       "        126, 208, 177, 155, 178,  92, 113, 113,  89,  88,  85,  91],\n",
       "       [113, 107, 104, 106, 133, 144,  92, 161, 236, 194, 129, 155, 201,\n",
       "        133, 170, 151, 160, 172,  91, 115, 109,  86,  88,  90,  95],\n",
       "       [145, 146, 147, 142, 149, 136,  99, 135, 192, 124, 111, 150, 175,\n",
       "        150, 137, 147, 190, 142,  87, 110, 106,  88,  91,  93,  95],\n",
       "       [181, 180, 177, 170, 141, 134, 124, 101, 142, 180, 157, 165, 181,\n",
       "        204, 210, 223, 173, 109, 106, 120,  93,  93,  90,  88,  90],\n",
       "       [185, 178, 174, 172, 133, 106, 128, 118,  99, 154, 216, 240, 243,\n",
       "        246, 240, 195, 127, 117, 112,  93,  86,  94,  89,  83,  84],\n",
       "       [143, 136, 119, 139, 137,  99,  91, 120, 120, 102, 131, 154, 185,\n",
       "        165, 192, 172, 127, 109,  94,  82,  85,  90,  81,  77,  79],\n",
       "       [190, 119,  77, 130, 135, 101,  85, 116, 136, 125, 100,  97,  98,\n",
       "         95, 113, 143, 137, 115,  91,  76,  87,  88,  80,  78,  81],\n",
       "       [181, 148,  75, 115, 139, 107,  95, 102, 111, 124, 122, 140, 124,\n",
       "        131, 131, 137, 133, 114,  91,  76,  82,  83,  79,  80,  82],\n",
       "       [131, 117,  99, 120, 152, 130, 128, 125, 127, 130, 136, 137, 139,\n",
       "        129, 123, 134, 126, 110,  97,  78,  74,  80,  80,  79,  84],\n",
       "       [135, 125, 115, 120, 135, 133, 127, 124, 122, 122, 110, 115, 141,\n",
       "        124, 102, 114, 126, 114, 104,  86,  71,  77,  84,  85,  95],\n",
       "       [107, 103,  90,  86,  86,  89,  92,  94,  94,  86,  78,  85, 141,\n",
       "        128,  96, 124, 157, 123, 100,  87,  74,  80,  96, 107, 103],\n",
       "       [ 87,  92,  68,  67,  74,  90,  88,  85,  94,  88,  79,  80, 135,\n",
       "        130,  93, 124, 158, 121,  96,  94,  79,  74,  94, 103,  96]],\n",
       "      dtype=uint8)"
      ]
     },
     "execution_count": 10,
     "metadata": {},
     "output_type": "execute_result"
    }
   ],
   "source": [
    "image_array = np.array(im_cropped_grey)\n",
    "print(np.shape(image_array))\n",
    "image_array "
   ]
  },
  {
   "cell_type": "code",
   "execution_count": null,
   "metadata": {},
   "outputs": [],
   "source": []
  }
 ],
 "metadata": {
  "kernelspec": {
   "display_name": "Python 3.9.10 64-bit",
   "language": "python",
   "name": "python3"
  },
  "language_info": {
   "codemirror_mode": {
    "name": "ipython",
    "version": 3
   },
   "file_extension": ".py",
   "mimetype": "text/x-python",
   "name": "python",
   "nbconvert_exporter": "python",
   "pygments_lexer": "ipython3",
   "version": "3.9.10"
  },
  "orig_nbformat": 4,
  "vscode": {
   "interpreter": {
    "hash": "f9dd5217a0dde95d381641731e639fd09a35f02e990bc29f8ba4a4a2775dc0bd"
   }
  }
 },
 "nbformat": 4,
 "nbformat_minor": 2
}
